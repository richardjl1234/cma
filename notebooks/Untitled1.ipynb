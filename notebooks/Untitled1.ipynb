{
 "cells": [
  {
   "cell_type": "code",
   "execution_count": 2,
   "id": "6acce699",
   "metadata": {},
   "outputs": [],
   "source": [
    "import pandas as pd\n",
    "import glob"
   ]
  },
  {
   "cell_type": "code",
   "execution_count": 39,
   "id": "9a981231",
   "metadata": {},
   "outputs": [],
   "source": [
    "files = glob.glob(\"../output/debug/CLIENT_better*.pkl\")"
   ]
  },
  {
   "cell_type": "code",
   "execution_count": 42,
   "id": "4b32b39b",
   "metadata": {},
   "outputs": [],
   "source": [
    "x = iter(files)\n",
    "# next(x)"
   ]
  },
  {
   "cell_type": "code",
   "execution_count": 43,
   "id": "2cc502e3",
   "metadata": {},
   "outputs": [
    {
     "name": "stdout",
     "output_type": "stream",
     "text": [
      "../output/debug/CLIENT_better_love_you.pkl\n",
      "(5, 8)\n"
     ]
    },
    {
     "data": {
      "text/html": [
       "<div>\n",
       "<style scoped>\n",
       "    .dataframe tbody tr th:only-of-type {\n",
       "        vertical-align: middle;\n",
       "    }\n",
       "\n",
       "    .dataframe tbody tr th {\n",
       "        vertical-align: top;\n",
       "    }\n",
       "\n",
       "    .dataframe thead th {\n",
       "        text-align: right;\n",
       "    }\n",
       "</style>\n",
       "<table border=\"1\" class=\"dataframe\">\n",
       "  <thead>\n",
       "    <tr style=\"text-align: right;\">\n",
       "      <th></th>\n",
       "      <th>cc_track</th>\n",
       "      <th>cc_version</th>\n",
       "      <th>cc_artist</th>\n",
       "      <th>c_platform</th>\n",
       "      <th>c_album</th>\n",
       "      <th>c_track</th>\n",
       "      <th>Unique Song ID</th>\n",
       "      <th>Unique Version ID</th>\n",
       "    </tr>\n",
       "  </thead>\n",
       "  <tbody>\n",
       "    <tr>\n",
       "      <th>0</th>\n",
       "      <td>better than this</td>\n",
       "      <td>zist remix</td>\n",
       "      <td>REZarin,Rickysee</td>\n",
       "      <td>NetEase Cloud Music</td>\n",
       "      <td>Better Than This (feat. Rickysee) [Zist Remix]</td>\n",
       "      <td>Better Than This (feat. Rickysee) [Zist Remix]</td>\n",
       "      <td>270</td>\n",
       "      <td>281</td>\n",
       "    </tr>\n",
       "    <tr>\n",
       "      <th>1</th>\n",
       "      <td>better than this</td>\n",
       "      <td>zist remix</td>\n",
       "      <td>REZarin,Rickysee</td>\n",
       "      <td>Tencent</td>\n",
       "      <td>Better Than This (feat. Rickysee) [Zist Remix]</td>\n",
       "      <td>Better Than This (feat. Rickysee) [Zist Remix]</td>\n",
       "      <td>270</td>\n",
       "      <td>281</td>\n",
       "    </tr>\n",
       "    <tr>\n",
       "      <th>2</th>\n",
       "      <td>better than this</td>\n",
       "      <td>zist remix</td>\n",
       "      <td>REZarin,Rickysee</td>\n",
       "      <td>Tencent: Kuwo</td>\n",
       "      <td>Better Than This (feat. Rickysee) [Zist Remix]</td>\n",
       "      <td>Better Than This (feat. Rickysee) [Zist Remix]</td>\n",
       "      <td>270</td>\n",
       "      <td>281</td>\n",
       "    </tr>\n",
       "    <tr>\n",
       "      <th>3</th>\n",
       "      <td>better than this</td>\n",
       "      <td>zist remix</td>\n",
       "      <td>REZarin,Rickysee</td>\n",
       "      <td>Tencent: QQMusic</td>\n",
       "      <td>Better Than This (feat. Rickysee) [Zist Remix]</td>\n",
       "      <td>Better Than This (feat. Rickysee) [Zist Remix]</td>\n",
       "      <td>270</td>\n",
       "      <td>281</td>\n",
       "    </tr>\n",
       "    <tr>\n",
       "      <th>4</th>\n",
       "      <td>better than this</td>\n",
       "      <td>zist remix</td>\n",
       "      <td>REZarin,Rickysee</td>\n",
       "      <td>TikTok: Douyin</td>\n",
       "      <td>Better Than This (feat. Rickysee) [Zist Remix]</td>\n",
       "      <td>Better Than This (feat. Rickysee) [Zist Remix]</td>\n",
       "      <td>270</td>\n",
       "      <td>281</td>\n",
       "    </tr>\n",
       "  </tbody>\n",
       "</table>\n",
       "</div>"
      ],
      "text/plain": [
       "           cc_track  cc_version         cc_artist           c_platform  \\\n",
       "0  better than this  zist remix  REZarin,Rickysee  NetEase Cloud Music   \n",
       "1  better than this  zist remix  REZarin,Rickysee              Tencent   \n",
       "2  better than this  zist remix  REZarin,Rickysee        Tencent: Kuwo   \n",
       "3  better than this  zist remix  REZarin,Rickysee     Tencent: QQMusic   \n",
       "4  better than this  zist remix  REZarin,Rickysee       TikTok: Douyin   \n",
       "\n",
       "                                          c_album  \\\n",
       "0  Better Than This (feat. Rickysee) [Zist Remix]   \n",
       "1  Better Than This (feat. Rickysee) [Zist Remix]   \n",
       "2  Better Than This (feat. Rickysee) [Zist Remix]   \n",
       "3  Better Than This (feat. Rickysee) [Zist Remix]   \n",
       "4  Better Than This (feat. Rickysee) [Zist Remix]   \n",
       "\n",
       "                                          c_track  Unique Song ID  \\\n",
       "0  Better Than This (feat. Rickysee) [Zist Remix]             270   \n",
       "1  Better Than This (feat. Rickysee) [Zist Remix]             270   \n",
       "2  Better Than This (feat. Rickysee) [Zist Remix]             270   \n",
       "3  Better Than This (feat. Rickysee) [Zist Remix]             270   \n",
       "4  Better Than This (feat. Rickysee) [Zist Remix]             270   \n",
       "\n",
       "   Unique Version ID  \n",
       "0                281  \n",
       "1                281  \n",
       "2                281  \n",
       "3                281  \n",
       "4                281  "
      ]
     },
     "execution_count": 43,
     "metadata": {},
     "output_type": "execute_result"
    }
   ],
   "source": [
    "def show_pickle_df():\n",
    "    print(next(x))\n",
    "    df = pd.read_pickle(next(x))\n",
    "    print(df.shape)\n",
    "    return df\n",
    "show_pickle_df().head()"
   ]
  },
  {
   "cell_type": "code",
   "execution_count": 27,
   "id": "cb815597",
   "metadata": {},
   "outputs": [
    {
     "ename": "StopIteration",
     "evalue": "",
     "output_type": "error",
     "traceback": [
      "\u001b[0;31m---------------------------------------------------------------------------\u001b[0m",
      "\u001b[0;31mStopIteration\u001b[0m                             Traceback (most recent call last)",
      "Cell \u001b[0;32mIn[27], line 1\u001b[0m\n\u001b[0;32m----> 1\u001b[0m show_pickle_df()\u001b[38;5;241m.\u001b[39mT\n",
      "Cell \u001b[0;32mIn[26], line 2\u001b[0m, in \u001b[0;36mshow_pickle_df\u001b[0;34m()\u001b[0m\n\u001b[1;32m      1\u001b[0m \u001b[38;5;28;01mdef\u001b[39;00m \u001b[38;5;21mshow_pickle_df\u001b[39m():\n\u001b[0;32m----> 2\u001b[0m     \u001b[38;5;28mprint\u001b[39m(\u001b[38;5;28mnext\u001b[39m(x))\n\u001b[1;32m      3\u001b[0m     df \u001b[38;5;241m=\u001b[39m pd\u001b[38;5;241m.\u001b[39mread_pickle(\u001b[38;5;28mnext\u001b[39m(x))\n\u001b[1;32m      4\u001b[0m     \u001b[38;5;28mprint\u001b[39m(df\u001b[38;5;241m.\u001b[39mshape)\n",
      "\u001b[0;31mStopIteration\u001b[0m: "
     ]
    }
   ],
   "source": [
    "show_pickle_df().T"
   ]
  },
  {
   "cell_type": "code",
   "execution_count": null,
   "id": "862d086b",
   "metadata": {},
   "outputs": [],
   "source": []
  }
 ],
 "metadata": {
  "kernelspec": {
   "display_name": "cma",
   "language": "python",
   "name": "cma"
  },
  "language_info": {
   "codemirror_mode": {
    "name": "ipython",
    "version": 3
   },
   "file_extension": ".py",
   "mimetype": "text/x-python",
   "name": "python",
   "nbconvert_exporter": "python",
   "pygments_lexer": "ipython3",
   "version": "3.11.9"
  }
 },
 "nbformat": 4,
 "nbformat_minor": 5
}
