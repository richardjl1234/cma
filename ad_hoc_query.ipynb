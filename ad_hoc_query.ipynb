{
 "cells": [
  {
   "cell_type": "code",
   "execution_count": 1,
   "id": "f84af4ac",
   "metadata": {},
   "outputs": [],
   "source": [
    "from rds_access import execute_sql_query, DatabaseConnection\n",
    "import os\n",
    "import pandas as pd"
   ]
  },
  {
   "cell_type": "code",
   "execution_count": 2,
   "id": "0b6009fb",
   "metadata": {},
   "outputs": [
    {
     "name": "stdout",
     "output_type": "stream",
     "text": [
      "ad_hoc_query.ipynb     input_data\t     pc_platform.py  requirements.txt\r\n",
      "ad_hoc_query.py        log_db_benchmark.txt  __pycache__     temp_output\r\n",
      "benchmark.py\t       msv7.py\t\t     queries.sql\r\n",
      "benchmark_results.csv  notebooks\t     rds_access.py\r\n"
     ]
    }
   ],
   "source": [
    "!ls"
   ]
  },
  {
   "cell_type": "code",
   "execution_count": 3,
   "id": "afd335e4",
   "metadata": {},
   "outputs": [],
   "source": [
    "conn_params = {                                                   \n",
    "        \"host\": os.environ.get(\"POSTGRE_HOST\", ''),                                \n",
    "        \"port\": 5432,                                                              \n",
    "        # \"database\": \"qqmusicv2\",                                                 \n",
    "        # \"database\": \"kugou\",                                                     \n",
    "        # \"database\": \"netease_max\",                                               \n",
    "        \"user\": os.environ.get(\"POSTGRE_USER\", ''),                                \n",
    "        \"password\": os.environ.get(\"POSTGRE_PWD\", '')                              \n",
    "    }        "
   ]
  },
  {
   "cell_type": "code",
   "execution_count": 4,
   "id": "7a28b130",
   "metadata": {},
   "outputs": [],
   "source": [
    "pd.set_option('display.max_rows', 5)                                            \n",
    "pd.set_option('display.max_columns', None) "
   ]
  },
  {
   "cell_type": "code",
   "execution_count": 5,
   "id": "7cbf2988",
   "metadata": {},
   "outputs": [],
   "source": [
    "conn_params['database'] = \"kugou\"\n",
    "# conn_paras['database'] = \"netease_max\"\n",
    "# conn_paras['database'] = \"qqmusicv2\"\n"
   ]
  },
  {
   "cell_type": "code",
   "execution_count": 6,
   "id": "e6627a93",
   "metadata": {},
   "outputs": [],
   "source": [
    "sql_query = \"\"\"SELECT ks.*, ka.album_name\n",
    "FROM kugou_songs ks\n",
    "LEFT JOIN kugou_albums ka ON ks.album_id = ka.album_id\n",
    "WHERE work_name ilike '%lonely%'\n",
    "\"\"\""
   ]
  },
  {
   "cell_type": "code",
   "execution_count": 7,
   "id": "514d0eec",
   "metadata": {},
   "outputs": [
    {
     "name": "stdout",
     "output_type": "stream",
     "text": [
      "(33286, 14)\n"
     ]
    }
   ],
   "source": [
    "with DatabaseConnection(conn_params) as conn:\n",
    "    df = execute_sql_query(sql_query, conn)\n",
    "    print(df.shape)"
   ]
  },
  {
   "cell_type": "code",
   "execution_count": 8,
   "id": "f725f6ff",
   "metadata": {},
   "outputs": [
    {
     "data": {
      "text/html": [
       "<div>\n",
       "<style scoped>\n",
       "    .dataframe tbody tr th:only-of-type {\n",
       "        vertical-align: middle;\n",
       "    }\n",
       "\n",
       "    .dataframe tbody tr th {\n",
       "        vertical-align: top;\n",
       "    }\n",
       "\n",
       "    .dataframe thead th {\n",
       "        text-align: right;\n",
       "    }\n",
       "</style>\n",
       "<table border=\"1\" class=\"dataframe\">\n",
       "  <thead>\n",
       "    <tr style=\"text-align: right;\">\n",
       "      <th></th>\n",
       "      <th>audio_id</th>\n",
       "      <th>singer_id</th>\n",
       "      <th>language</th>\n",
       "      <th>ori_author_name</th>\n",
       "      <th>work_name</th>\n",
       "      <th>cid</th>\n",
       "      <th>scrape_date</th>\n",
       "      <th>combine_count</th>\n",
       "      <th>album_id</th>\n",
       "      <th>publish_company</th>\n",
       "      <th>raw_json_1</th>\n",
       "      <th>singer_ids</th>\n",
       "      <th>singer_names</th>\n",
       "      <th>album_name</th>\n",
       "    </tr>\n",
       "  </thead>\n",
       "  <tbody>\n",
       "    <tr>\n",
       "      <th>0</th>\n",
       "      <td>21471941</td>\n",
       "      <td>None</td>\n",
       "      <td>英语</td>\n",
       "      <td>Nat King Cole</td>\n",
       "      <td>Dear Lonely Hearts</td>\n",
       "      <td>254428776</td>\n",
       "      <td>2024-03-16 15:41:40.024000+00:00</td>\n",
       "      <td>0</td>\n",
       "      <td>68535700</td>\n",
       "      <td>Black Barn Music</td>\n",
       "      <td>None</td>\n",
       "      <td>[31289]</td>\n",
       "      <td>[Nat King Cole]</td>\n",
       "      <td>Somewhere Along the Way</td>\n",
       "    </tr>\n",
       "    <tr>\n",
       "      <th>1</th>\n",
       "      <td>21473475</td>\n",
       "      <td>None</td>\n",
       "      <td>英语</td>\n",
       "      <td>Jay McShann &amp; His Orchestra</td>\n",
       "      <td>Lonely Boy Blues</td>\n",
       "      <td>14581258</td>\n",
       "      <td>2024-03-16 15:41:41.045000+00:00</td>\n",
       "      <td>0</td>\n",
       "      <td>12946594</td>\n",
       "      <td></td>\n",
       "      <td>None</td>\n",
       "      <td>[513784]</td>\n",
       "      <td>[Jay McShann &amp; His Orchestra]</td>\n",
       "      <td>Hootie's KC Blues</td>\n",
       "    </tr>\n",
       "    <tr>\n",
       "      <th>2</th>\n",
       "      <td>21477334</td>\n",
       "      <td>None</td>\n",
       "      <td>英语</td>\n",
       "      <td>Eddie Cochran</td>\n",
       "      <td>Lonely</td>\n",
       "      <td>178485198</td>\n",
       "      <td>2024-03-16 15:41:44.362000+00:00</td>\n",
       "      <td>0</td>\n",
       "      <td>50121536</td>\n",
       "      <td>Golden Ear Music</td>\n",
       "      <td>None</td>\n",
       "      <td>[113305]</td>\n",
       "      <td>[Eddie Cochran]</td>\n",
       "      <td>Three Steps to Heaven</td>\n",
       "    </tr>\n",
       "    <tr>\n",
       "      <th>3</th>\n",
       "      <td>21477449</td>\n",
       "      <td>None</td>\n",
       "      <td>英语</td>\n",
       "      <td>Dion &amp; The Belmonts</td>\n",
       "      <td>Lonely Teenager</td>\n",
       "      <td>131965709</td>\n",
       "      <td>2024-03-16 15:41:44.425000+00:00</td>\n",
       "      <td>0</td>\n",
       "      <td>2253417</td>\n",
       "      <td>Vonotone Records</td>\n",
       "      <td>None</td>\n",
       "      <td>[283830]</td>\n",
       "      <td>[Dion &amp; The Belmonts]</td>\n",
       "      <td>The Wanderer - Best Of Dion And The Belmonts</td>\n",
       "    </tr>\n",
       "    <tr>\n",
       "      <th>4</th>\n",
       "      <td>21480565</td>\n",
       "      <td>None</td>\n",
       "      <td>英语</td>\n",
       "      <td>Joe \"Fingers\" Webster</td>\n",
       "      <td>Kiss Me Goodnight Sergeant Major / Keep The Ho...</td>\n",
       "      <td>12477738</td>\n",
       "      <td>2024-03-16 15:41:47.376000+00:00</td>\n",
       "      <td>0</td>\n",
       "      <td>46047849</td>\n",
       "      <td>INgrooves</td>\n",
       "      <td>None</td>\n",
       "      <td>[394172]</td>\n",
       "      <td>[Joe \"Fingers\" Webster]</td>\n",
       "      <td>Piano Party Funtime - 69 Sing-Along Favourites</td>\n",
       "    </tr>\n",
       "  </tbody>\n",
       "</table>\n",
       "</div>"
      ],
      "text/plain": [
       "   audio_id singer_id language              ori_author_name  \\\n",
       "0  21471941      None       英语                Nat King Cole   \n",
       "1  21473475      None       英语  Jay McShann & His Orchestra   \n",
       "2  21477334      None       英语                Eddie Cochran   \n",
       "3  21477449      None       英语          Dion & The Belmonts   \n",
       "4  21480565      None       英语        Joe \"Fingers\" Webster   \n",
       "\n",
       "                                           work_name        cid  \\\n",
       "0                                 Dear Lonely Hearts  254428776   \n",
       "1                                   Lonely Boy Blues   14581258   \n",
       "2                                             Lonely  178485198   \n",
       "3                                    Lonely Teenager  131965709   \n",
       "4  Kiss Me Goodnight Sergeant Major / Keep The Ho...   12477738   \n",
       "\n",
       "                       scrape_date  combine_count  album_id   publish_company  \\\n",
       "0 2024-03-16 15:41:40.024000+00:00              0  68535700  Black Barn Music   \n",
       "1 2024-03-16 15:41:41.045000+00:00              0  12946594                     \n",
       "2 2024-03-16 15:41:44.362000+00:00              0  50121536  Golden Ear Music   \n",
       "3 2024-03-16 15:41:44.425000+00:00              0   2253417  Vonotone Records   \n",
       "4 2024-03-16 15:41:47.376000+00:00              0  46047849         INgrooves   \n",
       "\n",
       "  raw_json_1 singer_ids                   singer_names  \\\n",
       "0       None    [31289]                [Nat King Cole]   \n",
       "1       None   [513784]  [Jay McShann & His Orchestra]   \n",
       "2       None   [113305]                [Eddie Cochran]   \n",
       "3       None   [283830]          [Dion & The Belmonts]   \n",
       "4       None   [394172]        [Joe \"Fingers\" Webster]   \n",
       "\n",
       "                                       album_name  \n",
       "0                         Somewhere Along the Way  \n",
       "1                               Hootie's KC Blues  \n",
       "2                           Three Steps to Heaven  \n",
       "3    The Wanderer - Best Of Dion And The Belmonts  \n",
       "4  Piano Party Funtime - 69 Sing-Along Favourites  "
      ]
     },
     "execution_count": 8,
     "metadata": {},
     "output_type": "execute_result"
    }
   ],
   "source": [
    "df.head()"
   ]
  },
  {
   "cell_type": "code",
   "execution_count": 9,
   "id": "b9e11fbb",
   "metadata": {},
   "outputs": [],
   "source": [
    "df.to_csv(\"result100.csv\")"
   ]
  },
  {
   "cell_type": "code",
   "execution_count": 10,
   "id": "6a29b17d",
   "metadata": {},
   "outputs": [
    {
     "data": {
      "text/plain": [
       "Index(['audio_id', 'singer_id', 'language', 'ori_author_name', 'work_name',\n",
       "       'cid', 'scrape_date', 'combine_count', 'album_id', 'publish_company',\n",
       "       'raw_json_1', 'singer_ids', 'singer_names', 'album_name'],\n",
       "      dtype='object')"
      ]
     },
     "execution_count": 10,
     "metadata": {},
     "output_type": "execute_result"
    }
   ],
   "source": [
    "df.columns"
   ]
  },
  {
   "cell_type": "code",
   "execution_count": 11,
   "id": "6cc03956",
   "metadata": {},
   "outputs": [],
   "source": [
    "# function to filter the corresponding lines\n",
    "def row_filter(row):\n",
    "    return row['ori_author_name'].lower().strip() == 'nana' and 'lonely' in row['work_name'].lower()\n",
    "    "
   ]
  },
  {
   "cell_type": "code",
   "execution_count": 16,
   "id": "7d7ee801",
   "metadata": {},
   "outputs": [],
   "source": [
    "df_filtered = df.loc[df.apply(row_filter, axis=1)]"
   ]
  },
  {
   "cell_type": "code",
   "execution_count": 17,
   "id": "cb517d0b",
   "metadata": {},
   "outputs": [],
   "source": [
    "df_filtered.to_csv('result_filtered.csv')"
   ]
  },
  {
   "cell_type": "code",
   "execution_count": null,
   "id": "cc4fb8a1",
   "metadata": {},
   "outputs": [],
   "source": []
  }
 ],
 "metadata": {
  "kernelspec": {
   "display_name": "cma",
   "language": "python",
   "name": "cma"
  },
  "language_info": {
   "codemirror_mode": {
    "name": "ipython",
    "version": 3
   },
   "file_extension": ".py",
   "mimetype": "text/x-python",
   "name": "python",
   "nbconvert_exporter": "python",
   "pygments_lexer": "ipython3",
   "version": "3.11.9"
  }
 },
 "nbformat": 4,
 "nbformat_minor": 5
}
