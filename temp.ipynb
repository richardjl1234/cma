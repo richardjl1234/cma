{
 "cells": [
  {
   "cell_type": "code",
   "execution_count": 9,
   "id": "8d95d5c5",
   "metadata": {},
   "outputs": [],
   "source": [
    "from artist_process import get_artist_statement, get_platform_data\n",
    "import logging\n",
    "from collections import namedtuple\n",
    "from settings import PLATFORMS"
   ]
  },
  {
   "cell_type": "code",
   "execution_count": 10,
   "id": "84f5f61e",
   "metadata": {},
   "outputs": [
    {
     "name": "stderr",
     "output_type": "stream",
     "text": [
      "2024-07-16 03:36:49,253 : INFO : read the execl file for cc_twosteps.xlsx to memory...\n",
      "2024-07-16 03:39:25,337 : INFO : start to process the artist: Two Steps From Hell\n",
      "2024-07-16 03:39:25,467 : INFO : The column names in the df_singer are: c_track\n",
      "c_platform\n",
      "c_month\n",
      "c_artist\n",
      "c_label\n",
      "c_album\n",
      "c_streams\n",
      "c_revenue\n",
      "Transaction Date\n",
      "Store\n",
      "Region\n",
      "Artist Name\n",
      "Label Name\n",
      "Album Name\n",
      "Track Artist\n",
      "UPC\n",
      "Track Title\n",
      "VideoId\n",
      "ChannelId\n",
      "ISRC\n",
      "Label Track ID\n",
      "Composers\n",
      "Units\n",
      "Currency\n",
      "Product Type\n",
      "Use Type\n",
      "Revenue\n",
      "Exchange Rate\n",
      "USD Revenue\n",
      "Distribution Rate\n",
      "Net Revenue\n",
      "Deal Share\n",
      "Cover Song\n",
      "Mechanical Royalty\n",
      "Pub Admin Fee\n",
      "Payable\n",
      "Revenue Split (Y/N)\n",
      "Statement Month\n",
      "Source File\n",
      "ALBUMID\n",
      "ACCOUNTNUM\n",
      "TrackId\n",
      "DDSALESID\n",
      "price\n",
      "Unique Row ID\n",
      "Client ID\n",
      "Catalog ID\n",
      "cc_track\n",
      "cc_additional_artist\n",
      "cc_version_instrumental\n",
      "cc_version_general\n",
      "cc_version_ep\n",
      "cc_version_misc\n",
      "cc_artist\n",
      "cc_version\n",
      "Unique Song ID\n",
      "Unique Version ID \n",
      "2024-07-16 03:39:26,168 : INFO : --------------- ROWS with EMPTY TRACK NAME are detected for artist Two Steps From Hell, those rows has been save to file Two Steps From Hell_EMPTY_TRACK_NAME.csv ------\n",
      "2024-07-16 03:39:26,302 : INFO : There are 1380 unique songs for artist 'Two Steps From Hell'\n",
      "2024-07-16 03:39:26,304 : INFO : Now run the query from platform netease_max to get the rows for song name victory\n"
     ]
    },
    {
     "name": "stdout",
     "output_type": "stream",
     "text": [
      "get_artist_statement took 156.9784951210022 seconds to execute\n",
      "[DataFeed(platform='netease_max', song_name='victory'), DataFeed(platform='netease_max', song_name='star sky'), DataFeed(platform='kugou', song_name='victory'), DataFeed(platform='kugou', song_name='star sky')]\n"
     ]
    },
    {
     "name": "stderr",
     "output_type": "stream",
     "text": [
      "2024-07-16 03:41:10,651 : INFO : 18274 rows returned based on the song name victory for the platform netease_max\n"
     ]
    },
    {
     "name": "stdout",
     "output_type": "stream",
     "text": [
      "get_platform_data took 104.34876894950867 seconds to execute\n"
     ]
    }
   ],
   "source": [
    "############################################################################ \n",
    "# get the singer statement information from the client statement excel sheet\n",
    "artist_info = (\"Two Steps From Hell\", \"cc_twosteps.xlsx\") \n",
    "df_singer = get_artist_statement(artist_info)\n",
    "\n",
    "########################################################################## \n",
    "# get the disctict song names from the df_singer\n",
    "song_names = df_singer['cc_track'].str.lower().unique()\n",
    "logging.info(\"There are {} unique songs for artist '{}'\".format(len(song_names), artist_info[0]))\n",
    "logging.debug(\"The songs names are: {}\".format('\\n'.join(song_names)))\n",
    "\n",
    "# create the generator to generate the platform and song name\n",
    "DataFeed = namedtuple(\"DataFeed\", ['platform', 'song_name'])\n",
    "data_feeds = iter([DataFeed(platform, song_name) \n",
    "                  for platform in PLATFORMS[:2]\n",
    "                  for song_name in song_names[:2]])\n",
    "print(list(data_feeds))\n",
    "\n",
    "data_feeds = iter([DataFeed(platform, song_name) \n",
    "                  for platform in PLATFORMS[:2]\n",
    "                  for song_name in song_names[:2]])\n",
    "\n",
    "data_feed = next(data_feeds)\n",
    "df_song = get_platform_data(platform=data_feed.platform, song_name=data_feed.song_name)\n"
   ]
  },
  {
   "cell_type": "code",
   "execution_count": null,
   "id": "83112def",
   "metadata": {},
   "outputs": [],
   "source": []
  }
 ],
 "metadata": {
  "kernelspec": {
   "display_name": "cma",
   "language": "python",
   "name": "cma"
  },
  "language_info": {
   "codemirror_mode": {
    "name": "ipython",
    "version": 3
   },
   "file_extension": ".py",
   "mimetype": "text/x-python",
   "name": "python",
   "nbconvert_exporter": "python",
   "pygments_lexer": "ipython3",
   "version": "3.11.9"
  }
 },
 "nbformat": 4,
 "nbformat_minor": 5
}
